{
 "cells": [
  {
   "cell_type": "code",
   "execution_count": 12,
   "id": "89a9da19-fd26-460b-863f-b4ffbbe22174",
   "metadata": {},
   "outputs": [],
   "source": [
    "import pandas as pd\n",
    "\n",
    "df_invoice = pd.read_csv('fct_invoice.csv')"
   ]
  },
  {
   "cell_type": "code",
   "execution_count": 13,
   "id": "3a21009d-e69f-411a-b3a3-b4f0e7601eea",
   "metadata": {},
   "outputs": [
    {
     "data": {
      "text/html": [
       "<div>\n",
       "<style scoped>\n",
       "    .dataframe tbody tr th:only-of-type {\n",
       "        vertical-align: middle;\n",
       "    }\n",
       "\n",
       "    .dataframe tbody tr th {\n",
       "        vertical-align: top;\n",
       "    }\n",
       "\n",
       "    .dataframe thead th {\n",
       "        text-align: right;\n",
       "    }\n",
       "</style>\n",
       "<table border=\"1\" class=\"dataframe\">\n",
       "  <thead>\n",
       "    <tr style=\"text-align: right;\">\n",
       "      <th></th>\n",
       "      <th>invoice_no</th>\n",
       "      <th>customer_id</th>\n",
       "      <th>category</th>\n",
       "      <th>quantity</th>\n",
       "      <th>price</th>\n",
       "      <th>payment_method</th>\n",
       "      <th>invoice_date</th>\n",
       "      <th>shopping_mall</th>\n",
       "    </tr>\n",
       "  </thead>\n",
       "  <tbody>\n",
       "    <tr>\n",
       "      <th>0</th>\n",
       "      <td>I138884</td>\n",
       "      <td>229</td>\n",
       "      <td>Clothing</td>\n",
       "      <td>5</td>\n",
       "      <td>1500.40</td>\n",
       "      <td>Credit Card</td>\n",
       "      <td>5/8/2022</td>\n",
       "      <td>Kanyon</td>\n",
       "    </tr>\n",
       "    <tr>\n",
       "      <th>1</th>\n",
       "      <td>I317333</td>\n",
       "      <td>3433</td>\n",
       "      <td>Shoes</td>\n",
       "      <td>3</td>\n",
       "      <td>1800.51</td>\n",
       "      <td>Debit Card</td>\n",
       "      <td>12/12/2021</td>\n",
       "      <td>Forum Istanbul</td>\n",
       "    </tr>\n",
       "    <tr>\n",
       "      <th>2</th>\n",
       "      <td>I127801</td>\n",
       "      <td>644</td>\n",
       "      <td>Clothing</td>\n",
       "      <td>1</td>\n",
       "      <td>300.08</td>\n",
       "      <td>Cash</td>\n",
       "      <td>9/11/2021</td>\n",
       "      <td>Metrocity</td>\n",
       "    </tr>\n",
       "    <tr>\n",
       "      <th>3</th>\n",
       "      <td>I173702</td>\n",
       "      <td>4900</td>\n",
       "      <td>Shoes</td>\n",
       "      <td>5</td>\n",
       "      <td>3000.85</td>\n",
       "      <td>Credit Card</td>\n",
       "      <td>16/05/2021</td>\n",
       "      <td>Metropol AVM</td>\n",
       "    </tr>\n",
       "    <tr>\n",
       "      <th>4</th>\n",
       "      <td>I337046</td>\n",
       "      <td>1089</td>\n",
       "      <td>Books</td>\n",
       "      <td>4</td>\n",
       "      <td>60.60</td>\n",
       "      <td>Cash</td>\n",
       "      <td>24/10/2021</td>\n",
       "      <td>Kanyon</td>\n",
       "    </tr>\n",
       "  </tbody>\n",
       "</table>\n",
       "</div>"
      ],
      "text/plain": [
       "  invoice_no  customer_id  category  quantity    price payment_method  \\\n",
       "0    I138884          229  Clothing         5  1500.40    Credit Card   \n",
       "1    I317333         3433     Shoes         3  1800.51     Debit Card   \n",
       "2    I127801          644  Clothing         1   300.08           Cash   \n",
       "3    I173702         4900     Shoes         5  3000.85    Credit Card   \n",
       "4    I337046         1089     Books         4    60.60           Cash   \n",
       "\n",
       "  invoice_date   shopping_mall  \n",
       "0     5/8/2022          Kanyon  \n",
       "1   12/12/2021  Forum Istanbul  \n",
       "2    9/11/2021       Metrocity  \n",
       "3   16/05/2021    Metropol AVM  \n",
       "4   24/10/2021          Kanyon  "
      ]
     },
     "execution_count": 13,
     "metadata": {},
     "output_type": "execute_result"
    }
   ],
   "source": [
    "df_invoice.head()"
   ]
  },
  {
   "cell_type": "code",
   "execution_count": 14,
   "id": "54eaf2ab-bd7e-4ad6-9910-30de1e3b82ef",
   "metadata": {},
   "outputs": [],
   "source": [
    "df_customers = pd.read_json('dim_customer.json')"
   ]
  },
  {
   "cell_type": "code",
   "execution_count": 15,
   "id": "23458e5d-f29d-4838-b0b0-01f3c81e1993",
   "metadata": {},
   "outputs": [
    {
     "data": {
      "text/html": [
       "<div>\n",
       "<style scoped>\n",
       "    .dataframe tbody tr th:only-of-type {\n",
       "        vertical-align: middle;\n",
       "    }\n",
       "\n",
       "    .dataframe tbody tr th {\n",
       "        vertical-align: top;\n",
       "    }\n",
       "\n",
       "    .dataframe thead th {\n",
       "        text-align: right;\n",
       "    }\n",
       "</style>\n",
       "<table border=\"1\" class=\"dataframe\">\n",
       "  <thead>\n",
       "    <tr style=\"text-align: right;\">\n",
       "      <th></th>\n",
       "      <th>age</th>\n",
       "      <th>first_name</th>\n",
       "      <th>gender</th>\n",
       "      <th>id</th>\n",
       "      <th>last_name</th>\n",
       "    </tr>\n",
       "  </thead>\n",
       "  <tbody>\n",
       "    <tr>\n",
       "      <th>0</th>\n",
       "      <td>48.0</td>\n",
       "      <td>Nicholas</td>\n",
       "      <td>M</td>\n",
       "      <td>0</td>\n",
       "      <td>Flores</td>\n",
       "    </tr>\n",
       "    <tr>\n",
       "      <th>1</th>\n",
       "      <td>NaN</td>\n",
       "      <td>Jeffery</td>\n",
       "      <td>M</td>\n",
       "      <td>1</td>\n",
       "      <td>Rowe</td>\n",
       "    </tr>\n",
       "    <tr>\n",
       "      <th>2</th>\n",
       "      <td>57.0</td>\n",
       "      <td>Alexis</td>\n",
       "      <td>F</td>\n",
       "      <td>2</td>\n",
       "      <td>Benton</td>\n",
       "    </tr>\n",
       "    <tr>\n",
       "      <th>3</th>\n",
       "      <td>73.0</td>\n",
       "      <td>Amy</td>\n",
       "      <td>F</td>\n",
       "      <td>3</td>\n",
       "      <td>Johnson</td>\n",
       "    </tr>\n",
       "    <tr>\n",
       "      <th>4</th>\n",
       "      <td>20.0</td>\n",
       "      <td>David</td>\n",
       "      <td>M</td>\n",
       "      <td>4</td>\n",
       "      <td>Moore</td>\n",
       "    </tr>\n",
       "  </tbody>\n",
       "</table>\n",
       "</div>"
      ],
      "text/plain": [
       "    age first_name gender  id last_name\n",
       "0  48.0   Nicholas      M   0    Flores\n",
       "1   NaN    Jeffery      M   1      Rowe\n",
       "2  57.0     Alexis      F   2    Benton\n",
       "3  73.0        Amy      F   3   Johnson\n",
       "4  20.0      David      M   4     Moore"
      ]
     },
     "execution_count": 15,
     "metadata": {},
     "output_type": "execute_result"
    }
   ],
   "source": [
    "df_customers.head()"
   ]
  },
  {
   "cell_type": "code",
   "execution_count": 16,
   "id": "24a80fbc-e6bb-43fa-b6ed-a2d1380a918e",
   "metadata": {},
   "outputs": [
    {
     "name": "stdout",
     "output_type": "stream",
     "text": [
      "Unique customers: 5191\n"
     ]
    }
   ],
   "source": [
    "unique_customers = df_customers['id'].nunique()\n",
    "\n",
    "easy_1 = \"Unique customers: \" + str(unique_customers)\n",
    "\n",
    "print(easy_1)"
   ]
  },
  {
   "cell_type": "code",
   "execution_count": 17,
   "id": "5a34eb83-2ab7-4e69-a774-8d999e702c70",
   "metadata": {},
   "outputs": [
    {
     "name": "stdout",
     "output_type": "stream",
     "text": [
      "Product categories: ['Clothing' 'Shoes' 'Books' 'Cosmetics' 'Food & Beverage' 'Toys'\n",
      " 'Technology' 'Souvenir']\n",
      "Number of categories: 8\n"
     ]
    }
   ],
   "source": [
    "categories = df_invoice['category'].unique()\n",
    "\n",
    "easy_2a = \"Product categories: \" + str(categories)\n",
    "easy_2b = \"Number of categories: \" + str(len(categories))\n",
    "\n",
    "print(easy_2a)\n",
    "print(easy_2b)"
   ]
  },
  {
   "cell_type": "code",
   "execution_count": 18,
   "id": "54c4c7e4-13f7-4063-8a24-de4ebcede88d",
   "metadata": {},
   "outputs": [
    {
     "name": "stdout",
     "output_type": "stream",
     "text": [
      "Most popular payment method: Cash used 44447 times\n"
     ]
    }
   ],
   "source": [
    "payments = df_invoice['payment_method'].value_counts()\n",
    "popular_count = payments.max()\n",
    "popular_method = payments.idxmax()\n",
    "\n",
    "easy_3 = \"Most popular payment method: \" + str(popular_method) + \" used \" + str(popular_count) + \" times\"\n",
    "print(easy_3)"
   ]
  },
  {
   "cell_type": "code",
   "execution_count": 20,
   "id": "961265c4-ee46-4224-9313-c42f4562804d",
   "metadata": {},
   "outputs": [
    {
     "name": "stdout",
     "output_type": "stream",
     "text": [
      "Top 3 categories by total sales: Clothing (113,996,791.04), Shoes (66,553,451.47), Technology (57,862,350.00)\n"
     ]
    }
   ],
   "source": [
    "df_invoice['total_sales'] = df_invoice['price'] * df_invoice['quantity']\n",
    "category_sales = df_invoice.groupby('category')['total_sales'].sum()\n",
    "\n",
    "top_3 = category_sales.sort_values(ascending=False).head(3)\n",
    "\n",
    "top_3_categories = \", \".join([f\"{cat} ({price:,.2f})\" for cat, price in top_3.items()])\n",
    "\n",
    "medium_1 = \"Top 3 categories by total sales: \" + str(top_3_categories)\n",
    "print(medium_1)"
   ]
  },
  {
   "cell_type": "code",
   "execution_count": 21,
   "id": "1471d07f-26d4-4371-b9a3-b8938c55f989",
   "metadata": {},
   "outputs": [
    {
     "name": "stdout",
     "output_type": "stream",
     "text": [
      "Total sales for customers over the age of 45: 82039768.15\n"
     ]
    }
   ],
   "source": [
    "df_combined = pd.merge(df_invoice, df_customers[['id','age']], left_on = 'customer_id', right_on ='id')\n",
    "sales_age_45 = df_combined[df_combined['age']>45]['total_sales'].sum()\n",
    "medium_2 = \"Total sales for customers over the age of 45: \" + str(sales_age_45)\n",
    "\n",
    "print(medium_2)"
   ]
  },
  {
   "cell_type": "code",
   "execution_count": 22,
   "id": "77a57f4e-5c92-43f9-9b50-4e72cd8699f6",
   "metadata": {},
   "outputs": [
    {
     "data": {
      "image/png": "[encoded data removed]",
      "text/plain": [
       "<Figure size 1200x600 with 1 Axes>"
      ]
     },
     "metadata": {},
     "output_type": "display_data"
    },
    {
     "name": "stdout",
     "output_type": "stream",
     "text": [
      "There are visible dips in the plot after January (starting February) across all three years. May and October also seemed to get more invoices compared to the month before and after it for both years.\n"
     ]
    }
   ],
   "source": [
    "import matplotlib.pyplot as plt\n",
    "import pandas as pd\n",
    "\n",
    "df_invoice['invoice_date'] = pd.to_datetime(df_invoice['invoice_date'],dayfirst = True)\n",
    "\n",
    "sales_per_month = df_invoice.groupby(pd.Grouper(key='invoice_date', freq='ME'))['invoice_no'].nunique()\n",
    "\n",
    "sales_per_month.plot(kind='line', figsize=(12,6), title='Invoices per Month', marker = 'o')\n",
    "plt.xlabel('Month')\n",
    "plt.ylabel('Number of Invoices')\n",
    "plt.grid(axis='y')\n",
    "plt.xticks(rotation=45)\n",
    "plt.show()\n",
    "\n",
    "medium_2 = \"There are visible dips in the plot after January (starting February) across all three years. May and October also seemed to get more invoices compared to the month before and after it for both years.\"\n",
    "print(medium_2)"
   ]
  },
  {
   "cell_type": "code",
   "execution_count": 33,
   "id": "1dc28ddf-1dcd-4f76-a91d-7b1cf2490dcc",
   "metadata": {},
   "outputs": [
    {
     "data": {
      "text/html": [
       "<style type=\"text/css\">\n",
       "</style>\n",
       "<table id=\"T_0b267\">\n",
       "  <thead>\n",
       "    <tr>\n",
       "      <th class=\"index_name level0\" >age_range</th>\n",
       "      <th id=\"T_0b267_level0_col0\" class=\"col_heading level0 col0\" >10.0-19.0</th>\n",
       "      <th id=\"T_0b267_level0_col1\" class=\"col_heading level0 col1\" >20.0-29.0</th>\n",
       "      <th id=\"T_0b267_level0_col2\" class=\"col_heading level0 col2\" >30.0-39.0</th>\n",
       "      <th id=\"T_0b267_level0_col3\" class=\"col_heading level0 col3\" >40.0-49.0</th>\n",
       "      <th id=\"T_0b267_level0_col4\" class=\"col_heading level0 col4\" >50.0-59.0</th>\n",
       "      <th id=\"T_0b267_level0_col5\" class=\"col_heading level0 col5\" >60.0-69.0</th>\n",
       "      <th id=\"T_0b267_level0_col6\" class=\"col_heading level0 col6\" >70.0-79.0</th>\n",
       "      <th id=\"T_0b267_level0_col7\" class=\"col_heading level0 col7\" >80.0-89.0</th>\n",
       "      <th id=\"T_0b267_level0_col8\" class=\"col_heading level0 col8\" >nan-nan</th>\n",
       "      <th id=\"T_0b267_level0_col9\" class=\"col_heading level0 col9\" >Subtotal (Excl nan-nan)</th>\n",
       "      <th id=\"T_0b267_level0_col10\" class=\"col_heading level0 col10\" >Grand Total</th>\n",
       "    </tr>\n",
       "  </thead>\n",
       "  <tbody>\n",
       "    <tr>\n",
       "      <th id=\"T_0b267_level0_row0\" class=\"row_heading level0 row0\" >Books</th>\n",
       "      <td id=\"T_0b267_row0_col0\" class=\"data row0 col0\" >12,801.75</td>\n",
       "      <td id=\"T_0b267_row0_col1\" class=\"data row0 col1\" >79,461.75</td>\n",
       "      <td id=\"T_0b267_row0_col2\" class=\"data row0 col2\" >84,143.10</td>\n",
       "      <td id=\"T_0b267_row0_col3\" class=\"data row0 col3\" >87,203.40</td>\n",
       "      <td id=\"T_0b267_row0_col4\" class=\"data row0 col4\" >74,962.20</td>\n",
       "      <td id=\"T_0b267_row0_col5\" class=\"data row0 col5\" >80,476.80</td>\n",
       "      <td id=\"T_0b267_row0_col6\" class=\"data row0 col6\" >54,827.85</td>\n",
       "      <td id=\"T_0b267_row0_col7\" class=\"data row0 col7\" >26,664.00</td>\n",
       "      <td id=\"T_0b267_row0_col8\" class=\"data row0 col8\" >334,012.05</td>\n",
       "      <td id=\"T_0b267_row0_col9\" class=\"data row0 col9\" >500,540.85</td>\n",
       "      <td id=\"T_0b267_row0_col10\" class=\"data row0 col10\" >834,552.90</td>\n",
       "    </tr>\n",
       "    <tr>\n",
       "      <th id=\"T_0b267_level0_row1\" class=\"row_heading level0 row1\" >Clothing</th>\n",
       "      <td id=\"T_0b267_row1_col0\" class=\"data row1 col0\" >1,927,413.84</td>\n",
       "      <td id=\"T_0b267_row1_col1\" class=\"data row1 col1\" >10,250,732.80</td>\n",
       "      <td id=\"T_0b267_row1_col2\" class=\"data row1 col2\" >11,354,126.96</td>\n",
       "      <td id=\"T_0b267_row1_col3\" class=\"data row1 col3\" >11,215,189.92</td>\n",
       "      <td id=\"T_0b267_row1_col4\" class=\"data row1 col4\" >10,321,851.76</td>\n",
       "      <td id=\"T_0b267_row1_col5\" class=\"data row1 col5\" >10,660,642.08</td>\n",
       "      <td id=\"T_0b267_row1_col6\" class=\"data row1 col6\" >7,769,371.28</td>\n",
       "      <td id=\"T_0b267_row1_col7\" class=\"data row1 col7\" >4,493,698.00</td>\n",
       "      <td id=\"T_0b267_row1_col8\" class=\"data row1 col8\" >46,003,764.40</td>\n",
       "      <td id=\"T_0b267_row1_col9\" class=\"data row1 col9\" >67,993,026.64</td>\n",
       "      <td id=\"T_0b267_row1_col10\" class=\"data row1 col10\" >113,996,791.04</td>\n",
       "    </tr>\n",
       "    <tr>\n",
       "      <th id=\"T_0b267_level0_row2\" class=\"row_heading level0 row2\" >Cosmetics</th>\n",
       "      <td id=\"T_0b267_row2_col0\" class=\"data row2 col0\" >109,619.36</td>\n",
       "      <td id=\"T_0b267_row2_col1\" class=\"data row2 col1\" >605,915.32</td>\n",
       "      <td id=\"T_0b267_row2_col2\" class=\"data row2 col2\" >723,544.70</td>\n",
       "      <td id=\"T_0b267_row2_col3\" class=\"data row2 col3\" >665,034.96</td>\n",
       "      <td id=\"T_0b267_row2_col4\" class=\"data row2 col4\" >587,780.96</td>\n",
       "      <td id=\"T_0b267_row2_col5\" class=\"data row2 col5\" >649,990.76</td>\n",
       "      <td id=\"T_0b267_row2_col6\" class=\"data row2 col6\" >419,082.62</td>\n",
       "      <td id=\"T_0b267_row2_col7\" class=\"data row2 col7\" >254,531.60</td>\n",
       "      <td id=\"T_0b267_row2_col8\" class=\"data row2 col8\" >2,777,362.62</td>\n",
       "      <td id=\"T_0b267_row2_col9\" class=\"data row2 col9\" >4,015,500.28</td>\n",
       "      <td id=\"T_0b267_row2_col10\" class=\"data row2 col10\" >6,792,862.90</td>\n",
       "    </tr>\n",
       "    <tr>\n",
       "      <th id=\"T_0b267_level0_row3\" class=\"row_heading level0 row3\" >Food & Beverage</th>\n",
       "      <td id=\"T_0b267_row3_col0\" class=\"data row3 col0\" >13,582.31</td>\n",
       "      <td id=\"T_0b267_row3_col1\" class=\"data row3 col1\" >73,491.96</td>\n",
       "      <td id=\"T_0b267_row3_col2\" class=\"data row3 col2\" >87,246.86</td>\n",
       "      <td id=\"T_0b267_row3_col3\" class=\"data row3 col3\" >89,553.29</td>\n",
       "      <td id=\"T_0b267_row3_col4\" class=\"data row3 col4\" >72,425.04</td>\n",
       "      <td id=\"T_0b267_row3_col5\" class=\"data row3 col5\" >80,976.09</td>\n",
       "      <td id=\"T_0b267_row3_col6\" class=\"data row3 col6\" >55,050.98</td>\n",
       "      <td id=\"T_0b267_row3_col7\" class=\"data row3 col7\" >31,332.93</td>\n",
       "      <td id=\"T_0b267_row3_col8\" class=\"data row3 col8\" >345,875.59</td>\n",
       "      <td id=\"T_0b267_row3_col9\" class=\"data row3 col9\" >503,659.46</td>\n",
       "      <td id=\"T_0b267_row3_col10\" class=\"data row3 col10\" >849,535.05</td>\n",
       "    </tr>\n",
       "    <tr>\n",
       "      <th id=\"T_0b267_level0_row4\" class=\"row_heading level0 row4\" >Shoes</th>\n",
       "      <td id=\"T_0b267_row4_col0\" class=\"data row4 col0\" >993,281.35</td>\n",
       "      <td id=\"T_0b267_row4_col1\" class=\"data row4 col1\" >5,924,878.24</td>\n",
       "      <td id=\"T_0b267_row4_col2\" class=\"data row4 col2\" >7,200,839.66</td>\n",
       "      <td id=\"T_0b267_row4_col3\" class=\"data row4 col3\" >7,025,590.02</td>\n",
       "      <td id=\"T_0b267_row4_col4\" class=\"data row4 col4\" >5,852,857.84</td>\n",
       "      <td id=\"T_0b267_row4_col5\" class=\"data row4 col5\" >5,978,893.54</td>\n",
       "      <td id=\"T_0b267_row4_col6\" class=\"data row4 col6\" >4,480,269.05</td>\n",
       "      <td id=\"T_0b267_row4_col7\" class=\"data row4 col7\" >2,628,744.60</td>\n",
       "      <td id=\"T_0b267_row4_col8\" class=\"data row4 col8\" >26,468,097.17</td>\n",
       "      <td id=\"T_0b267_row4_col9\" class=\"data row4 col9\" >40,085,354.30</td>\n",
       "      <td id=\"T_0b267_row4_col10\" class=\"data row4 col10\" >66,553,451.47</td>\n",
       "    </tr>\n",
       "    <tr>\n",
       "      <th id=\"T_0b267_level0_row5\" class=\"row_heading level0 row5\" >Souvenir</th>\n",
       "      <td id=\"T_0b267_row5_col0\" class=\"data row5 col0\" >12,375.15</td>\n",
       "      <td id=\"T_0b267_row5_col1\" class=\"data row5 col1\" >54,943.32</td>\n",
       "      <td id=\"T_0b267_row5_col2\" class=\"data row5 col2\" >64,092.72</td>\n",
       "      <td id=\"T_0b267_row5_col3\" class=\"data row5 col3\" >66,391.80</td>\n",
       "      <td id=\"T_0b267_row5_col4\" class=\"data row5 col4\" >54,943.32</td>\n",
       "      <td id=\"T_0b267_row5_col5\" class=\"data row5 col5\" >55,025.43</td>\n",
       "      <td id=\"T_0b267_row5_col6\" class=\"data row5 col6\" >38,673.81</td>\n",
       "      <td id=\"T_0b267_row5_col7\" class=\"data row5 col7\" >23,718.06</td>\n",
       "      <td id=\"T_0b267_row5_col8\" class=\"data row5 col8\" >265,661.04</td>\n",
       "      <td id=\"T_0b267_row5_col9\" class=\"data row5 col9\" >370,163.61</td>\n",
       "      <td id=\"T_0b267_row5_col10\" class=\"data row5 col10\" >635,824.65</td>\n",
       "    </tr>\n",
       "    <tr>\n",
       "      <th id=\"T_0b267_level0_row6\" class=\"row_heading level0 row6\" >Technology</th>\n",
       "      <td id=\"T_0b267_row6_col0\" class=\"data row6 col0\" >1,129,800.00</td>\n",
       "      <td id=\"T_0b267_row6_col1\" class=\"data row6 col1\" >5,261,550.00</td>\n",
       "      <td id=\"T_0b267_row6_col2\" class=\"data row6 col2\" >6,159,300.00</td>\n",
       "      <td id=\"T_0b267_row6_col3\" class=\"data row6 col3\" >5,954,550.00</td>\n",
       "      <td id=\"T_0b267_row6_col4\" class=\"data row6 col4\" >4,435,200.00</td>\n",
       "      <td id=\"T_0b267_row6_col5\" class=\"data row6 col5\" >5,471,550.00</td>\n",
       "      <td id=\"T_0b267_row6_col6\" class=\"data row6 col6\" >3,638,250.00</td>\n",
       "      <td id=\"T_0b267_row6_col7\" class=\"data row6 col7\" >1,946,700.00</td>\n",
       "      <td id=\"T_0b267_row6_col8\" class=\"data row6 col8\" >23,865,450.00</td>\n",
       "      <td id=\"T_0b267_row6_col9\" class=\"data row6 col9\" >33,996,900.00</td>\n",
       "      <td id=\"T_0b267_row6_col10\" class=\"data row6 col10\" >57,862,350.00</td>\n",
       "    </tr>\n",
       "    <tr>\n",
       "      <th id=\"T_0b267_level0_row7\" class=\"row_heading level0 row7\" >Toys</th>\n",
       "      <td id=\"T_0b267_row7_col0\" class=\"data row7 col0\" >60,426.24</td>\n",
       "      <td id=\"T_0b267_row7_col1\" class=\"data row7 col1\" >385,100.80</td>\n",
       "      <td id=\"T_0b267_row7_col2\" class=\"data row7 col2\" >420,582.40</td>\n",
       "      <td id=\"T_0b267_row7_col3\" class=\"data row7 col3\" >390,906.88</td>\n",
       "      <td id=\"T_0b267_row7_col4\" class=\"data row7 col4\" >345,067.52</td>\n",
       "      <td id=\"T_0b267_row7_col5\" class=\"data row7 col5\" >363,955.20</td>\n",
       "      <td id=\"T_0b267_row7_col6\" class=\"data row7 col6\" >273,244.16</td>\n",
       "      <td id=\"T_0b267_row7_col7\" class=\"data row7 col7\" >153,932.80</td>\n",
       "      <td id=\"T_0b267_row7_col8\" class=\"data row7 col8\" >1,587,210.24</td>\n",
       "      <td id=\"T_0b267_row7_col9\" class=\"data row7 col9\" >2,393,216.00</td>\n",
       "      <td id=\"T_0b267_row7_col10\" class=\"data row7 col10\" >3,980,426.24</td>\n",
       "    </tr>\n",
       "    <tr>\n",
       "      <th id=\"T_0b267_level0_row8\" class=\"row_heading level0 row8\" >Total</th>\n",
       "      <td id=\"T_0b267_row8_col0\" class=\"data row8 col0\" >4,259,300.00</td>\n",
       "      <td id=\"T_0b267_row8_col1\" class=\"data row8 col1\" >22,636,074.19</td>\n",
       "      <td id=\"T_0b267_row8_col2\" class=\"data row8 col2\" >26,093,876.40</td>\n",
       "      <td id=\"T_0b267_row8_col3\" class=\"data row8 col3\" >25,494,420.27</td>\n",
       "      <td id=\"T_0b267_row8_col4\" class=\"data row8 col4\" >21,745,088.64</td>\n",
       "      <td id=\"T_0b267_row8_col5\" class=\"data row8 col5\" >23,341,509.90</td>\n",
       "      <td id=\"T_0b267_row8_col6\" class=\"data row8 col6\" >16,728,769.75</td>\n",
       "      <td id=\"T_0b267_row8_col7\" class=\"data row8 col7\" >9,559,321.99</td>\n",
       "      <td id=\"T_0b267_row8_col8\" class=\"data row8 col8\" >101,647,433.11</td>\n",
       "      <td id=\"T_0b267_row8_col9\" class=\"data row8 col9\" >149,858,361.14</td>\n",
       "      <td id=\"T_0b267_row8_col10\" class=\"data row8 col10\" >251,505,794.25</td>\n",
       "    </tr>\n",
       "  </tbody>\n",
       "</table>\n"
      ],
      "text/plain": [
       "<pandas.io.formats.style.Styler at 0x1661e5a60>"
      ]
     },
     "execution_count": 33,
     "metadata": {},
     "output_type": "execute_result"
    }
   ],
   "source": [
    "df_combined['age_decade'] = (df_combined['age'] // 10) * 10\n",
    "df_combined['age_range'] = df_combined['age_decade'].astype(str) +'-' + (df_combined['age_decade'] + 9).astype(str)\n",
    "\n",
    "pivot = pd.pivot_table(\n",
    "    df_combined,\n",
    "    values='total_sales',\n",
    "    index='category',\n",
    "    columns='age_range',\n",
    "    aggfunc='sum',\n",
    "    fill_value=0\n",
    ")\n",
    "\n",
    "nan_nan_col = 'nan-nan'\n",
    "if nan_nan_col in pivot.columns:\n",
    "    pivot['Subtotal (Excl nan-nan)'] = pivot.loc[:, pivot.columns != nan_nan_col].sum(axis=1)\n",
    "else:\n",
    "    pivot['Subtotal (Excl nan-nan)'] = pivot.sum(axis=1)\n",
    "    pivot['Total (Incl nan-nan)'] = pivot['Subtotal (Excl nan-nan)']\n",
    "\n",
    "age_range_cols = [col for col in pivot.columns if col not in ['Subtotal (Excl nan-nan)', 'Total (Incl nan-nan)']]\n",
    "pivot['Grand Total'] = pivot[age_range_cols].sum(axis=1)\n",
    "\n",
    "totals_row = pivot.sum(axis=0)\n",
    "totals_row.name = 'Total'\n",
    "\n",
    "pivot = pd.concat([pivot, totals_row.to_frame().T])\n",
    "pivot.style.format(\"{:,.2f}\")"
   ]
  },
  {
   "cell_type": "code",
   "execution_count": null,
   "id": "a56d71ef-d8d1-4b1f-8a99-54b920e0e210",
   "metadata": {},
   "outputs": [],
   "source": []
  }
 ],
 "metadata": {
  "kernelspec": {
   "display_name": "Python [conda env:base] *",
   "language": "python",
   "name": "conda-base-py"
  },
  "language_info": {
   "codemirror_mode": {
    "name": "ipython",
    "version": 3
   },
   "file_extension": ".py",
   "mimetype": "text/x-python",
   "name": "python",
   "nbconvert_exporter": "python",
   "pygments_lexer": "ipython3",
   "version": "3.12.7"
  }
 },
 "nbformat": 4,
 "nbformat_minor": 5
}
