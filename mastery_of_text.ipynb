{
 "cells": [
  {
   "cell_type": "code",
   "execution_count": 22,
   "id": "d0df22f4-8c9a-4824-9743-0578984c45f8",
   "metadata": {},
   "outputs": [],
   "source": [
    "import urllib.request\n",
    "\n",
    "url = \"https://www.gutenberg.org/cache/epub/10/pg10.txt\""
   ]
  },
  {
   "cell_type": "code",
   "execution_count": 23,
   "id": "0413a319-44f2-4dc8-b594-528df895a38a",
   "metadata": {},
   "outputs": [],
   "source": [
    "text_lines = []\n",
    "with urllib.request.urlopen(url) as response:\n",
    "    for line_bytes in response:\n",
    "        line = line_bytes.decode('utf-8')\n",
    "        text_lines.append(line)\n",
    "\n",
    "pg10 = \"\".join(text_lines)"
   ]
  },
  {
   "cell_type": "code",
   "execution_count": 46,
   "id": "4dc075de-2ac6-4675-a693-38ef80d67882",
   "metadata": {},
   "outputs": [
    {
     "name": "stdout",
     "output_type": "stream",
     "text": [
      "Number of lines: 99968\n",
      "Number of words: 795227\n",
      "Number of times the word 'apostle' appeared: 47\n",
      "Most common word: \"the\"\n",
      "(The word \"the\" was used 64309 times)\n"
     ]
    }
   ],
   "source": [
    "import re\n",
    "from collections import Counter\n",
    "\n",
    "no_of_lines = len(pg10.splitlines())\n",
    "answer_1 = \"Number of lines: \" + str(no_of_lines)\n",
    "print(answer_1)\n",
    "\n",
    "words = re.findall(r\"[A-Za-z]+\", pg10)\n",
    "no_of_words = len(words)\n",
    "answer_2 = \"Number of words: \" + str(no_of_words)\n",
    "print(answer_2)\n",
    "\n",
    "no_of_apostle = 0\n",
    "for word in words:\n",
    "    if word.lower() == \"apostle\":\n",
    "        no_of_apostle +=1\n",
    "answer_3 = \"Number of times the word 'apostle' appeared: \" + str(no_of_apostle)\n",
    "print(answer_3)\n",
    "\n",
    "lowercase_words = []\n",
    "for word in words:\n",
    "    lowercase_words.append(word.lower())\n",
    "count_per_word = Counter(word.lower() for word in words)\n",
    "most_common = count_per_word.most_common(1)\n",
    "most_common_word = most_common[0][0]\n",
    "most_common_usage = most_common[0][1]\n",
    "answer_4 = \"Most common word: \" + '\"' +  str(most_common_word) + '\"' \n",
    "print(answer_4)\n",
    "\n",
    "answer_5 = '(The word \"' + most_common_word + '\" was used ' + str(most_common_usage) + \" times)\"\n",
    "print(answer_5)"
   ]
  },
  {
   "cell_type": "code",
   "execution_count": null,
   "id": "ac597c46-b8c2-4579-a84b-26d005afed2a",
   "metadata": {},
   "outputs": [],
   "source": []
  }
 ],
 "metadata": {
  "kernelspec": {
   "display_name": "Python [conda env:base] *",
   "language": "python",
   "name": "conda-base-py"
  },
  "language_info": {
   "codemirror_mode": {
    "name": "ipython",
    "version": 3
   },
   "file_extension": ".py",
   "mimetype": "text/x-python",
   "name": "python",
   "nbconvert_exporter": "python",
   "pygments_lexer": "ipython3",
   "version": "3.12.7"
  }
 },
 "nbformat": 4,
 "nbformat_minor": 5
}
