{
 "cells": [
  {
   "cell_type": "code",
   "execution_count": 1,
   "id": "9f38bae0-ab9c-4ce0-a4ae-f3865ebb93dd",
   "metadata": {},
   "outputs": [],
   "source": [
    "import urllib.request\n",
    "url = \"https://www.gutenberg.org/cache/epub/10/pg10.txt\""
   ]
  },
  {
   "cell_type": "code",
   "execution_count": 2,
   "id": "85cc9aec-8e04-41c8-8266-ba8487d7f5d7",
   "metadata": {},
   "outputs": [],
   "source": [
    "with urllib.request.urlopen(url) as response:\n",
    "    pg10 = response.read().decode('utf-8')"
   ]
  },
  {
   "cell_type": "code",
   "execution_count": 21,
   "id": "f76e83c3-82dd-4fbe-b10d-7a434d94a658",
   "metadata": {},
   "outputs": [
    {
     "name": "stdout",
     "output_type": "stream",
     "text": [
      "Number of lines: 99968\n",
      "Number of words: 795227\n",
      "Number of times the word \"apostle\" appeared: 47\n",
      "Most common word: \"the\"\n"
     ]
    }
   ],
   "source": [
    "number_lines = pg10.count('\\n') \n",
    "answer_1 = 'Number of lines: ' + str(number_lines)\n",
    "print(answer_1)\n",
    "\n",
    "def extract_words(text):\n",
    "    word_list = []\n",
    "    current_word = ''\n",
    "    for char in text:\n",
    "        if char.isalpha():\n",
    "            current_word += char\n",
    "        else:\n",
    "            if current_word != '':\n",
    "                word_list.append(current_word)\n",
    "                current_word = ''\n",
    "    if current_word != '':\n",
    "        word_list.append(current_word)\n",
    "    return word_list\n",
    "word_list = extract_words (pg10)\n",
    "number_words = len(word_list)\n",
    "answer_2 = 'Number of words: ' + str(number_words)\n",
    "print(answer_2)\n",
    "\n",
    "number_apostle = 0\n",
    "count_word = {}\n",
    "for word in word_list:\n",
    "    lowercase = word.lower()\n",
    "    if lowercase == 'apostle':\n",
    "        number_apostle += 1\n",
    "    if lowercase in count_word:\n",
    "        count_word[lowercase] += 1\n",
    "    else:\n",
    "        count_word[lowercase] = 1\n",
    "answer_3 = 'Number of times the word \"apostle\" appeared: ' + str(number_apostle)\n",
    "print(answer_3)\n",
    "\n",
    "common_word = None\n",
    "word_frequency = 0\n",
    "for word, count in count_word.items():\n",
    "    if count > word_frequency:\n",
    "        common_word = word\n",
    "        word_frequency = count\n",
    "answer_4 = 'Most common word: \"' + common_word + '\"'\n",
    "print(answer_4)\n"
   ]
  },
  {
   "cell_type": "code",
   "execution_count": null,
   "id": "29ca2c85-02bb-4abc-98f9-7c35d538e4de",
   "metadata": {},
   "outputs": [],
   "source": []
  }
 ],
 "metadata": {
  "kernelspec": {
   "display_name": "Python [conda env:base] *",
   "language": "python",
   "name": "conda-base-py"
  },
  "language_info": {
   "codemirror_mode": {
    "name": "ipython",
    "version": 3
   },
   "file_extension": ".py",
   "mimetype": "text/x-python",
   "name": "python",
   "nbconvert_exporter": "python",
   "pygments_lexer": "ipython3",
   "version": "3.12.7"
  }
 },
 "nbformat": 4,
 "nbformat_minor": 5
}
